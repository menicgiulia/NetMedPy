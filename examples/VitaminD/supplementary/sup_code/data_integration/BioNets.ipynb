{
 "cells": [
  {
   "cell_type": "markdown",
   "metadata": {},
   "source": [
    "# Download and Generation of Protein-Protein Interaction (PPI) Networks\n",
    "\n",
    "This notebook demonstrates the process of downloading, processing, and filtering PPI networks from the STRING and BioGRID databases.\n",
    "\n",
    "The following packages are required for this script: `pandas`, `numpy`, `requests`, `zipfile`, `gzip`, `networkx`, `shutil`, and `mygene`.\n"
   ]
  },
  {
   "cell_type": "code",
   "execution_count": null,
   "metadata": {},
   "outputs": [],
   "source": [
    "# Import necessary packages\n",
    "import pandas as pd\n",
    "import numpy as np\n",
    "import requests\n",
    "import zipfile\n",
    "import gzip\n",
    "import shutil\n",
    "import mygene\n",
    "import networkx as nx\n",
    "import matplotlib.pyplot as plt\n",
    "import seaborn as sns\n",
    "\n",
    "import BioNetTools as tools  # Custom module for handling network operations\n"
   ]
  },
  {
   "cell_type": "markdown",
   "metadata": {},
   "source": [
    "## BioGRID PPI Network\n",
    "\n",
    "We download the complete BioGRID PPI network, version 4.4.243, from:\n",
    "[BioGRID Download](https://downloads.thebiogrid.org/Download/BioGRID/Release-Archive/BIOGRID-4.4.243/BIOGRID-ALL-4.4.243.mitab.zip)\n",
    "\n",
    "For further documentation, visit [BioGRID](https://thebiogrid.org/).\n"
   ]
  },
  {
   "cell_type": "code",
   "execution_count": null,
   "metadata": {},
   "outputs": [],
   "source": [
    "# Define the URL for the BioGRID MITAB file\n",
    "biogrid_url = \"https://downloads.thebiogrid.org/Download/BioGRID/Release-Archive/BIOGRID-4.4.241/BIOGRID-ALL-4.4.241.mitab.zip\"\n",
    "\n",
    "# Define paths for temporary files\n",
    "biogrid_zip_path = './tmp_biogrid/biogrid.zip'\n",
    "\n",
    "# Download and extract the BioGRID data\n",
    "print(\"Downloading BioGRID dataset...\")\n",
    "tools.download_file(biogrid_url, biogrid_zip_path)\n",
    "\n",
    "print(\"Uncompressing BioGRID dataset...\")\n",
    "tools.unzip_file(biogrid_zip_path, \"./tmp_biogrid/biogrid_data\")\n",
    "\n",
    "print(\"Reading BioGRID dataset...\")\n",
    "biogrid_df = pd.read_csv(\"./tmp_biogrid/biogrid_data/BIOGRID-ALL-4.4.241.mitab.txt\", sep=\"\\t\", low_memory=False)\n",
    "\n",
    "# Clean up temporary files\n",
    "shutil.rmtree(\"./tmp_biogrid\")\n",
    "\n",
    "# Filter for human physical interaction associations\n",
    "print(\"Filtering human-specific interactions...\")\n",
    "biogrid_df = biogrid_df.query(\"`Taxid Interactor A` == 'taxid:9606' and `Taxid Interactor B` == 'taxid:9606'\")\n",
    "biogrid_df = biogrid_df[biogrid_df[\"Interaction Types\"].str.contains(\"physical association\", case=False)]\n",
    "\n",
    "# Select relevant columns\n",
    "biogrid_df = biogrid_df[['Alt IDs Interactor A', 'Alt IDs Interactor B', 'Aliases Interactor A', 'Aliases Interactor B', 'Confidence Values']]\n",
    "\n",
    "# Extract HGNC gene symbols\n",
    "biogrid_df['Gene_Name_A'] = biogrid_df['Alt IDs Interactor A'].apply(tools.extract_hgnc_biogrid)\n",
    "biogrid_df['Gene_Name_B'] = biogrid_df['Alt IDs Interactor B'].apply(tools.extract_hgnc_biogrid)\n",
    "biogrid_df = biogrid_df.query(\"Gene_Name_A != Gene_Name_B\")\n",
    "\n",
    "# Extract BioGRID confidence scores\n",
    "biogrid_df['Score'] = biogrid_df['Confidence Values'].apply(tools.extract_score_biogrid)\n",
    "biogrid_df = biogrid_df[['Gene_Name_A', 'Gene_Name_B', 'Score']]\n",
    "\n",
    "# Save the processed PPI network\n",
    "print(\"Saving filtered BioGRID dataset...\")\n",
    "biogrid_df.to_csv(\"../../sup_data/alternative_ppi/ppi_biogrid.csv\", index=False)\n"
   ]
  },
  {
   "cell_type": "markdown",
   "metadata": {},
   "source": [
    "## Convert DataFrame to NetworkX Graph\n"
   ]
  },
  {
   "cell_type": "code",
   "execution_count": null,
   "metadata": {},
   "outputs": [],
   "source": [
    "# Rename 'Score' to 'weight' for NetworkX compatibility\n",
    "biogrid_df = biogrid_df.rename(columns={\"Score\": \"weight\"})\n",
    "\n",
    "# Create an undirected graph from the DataFrame\n",
    "G = nx.from_pandas_edgelist(biogrid_df, 'Gene_Name_A', 'Gene_Name_B', edge_attr='weight', create_using=nx.Graph())\n",
    "\n",
    "print(f\"Nodes: {len(G.nodes)}\")\n",
    "print(f\"Edges: {len(G.edges)}\")\n"
   ]
  },
  {
   "cell_type": "markdown",
   "metadata": {},
   "source": [
    "## Degree Distribution\n"
   ]
  },
  {
   "cell_type": "code",
   "execution_count": null,
   "metadata": {},
   "outputs": [],
   "source": [
    "degree_sequence = [d for _, d in G.degree()]\n",
    "plt.figure(figsize=(7, 5))\n",
    "sns.scatterplot(\n",
    "    x=range(len(degree_sequence)), \n",
    "    y=sorted(degree_sequence, reverse=True), \n",
    "    edgecolor=None,\n",
    "    legend=False\n",
    ")\n",
    "plt.xlabel(\"Node Rank\")  \n",
    "plt.ylabel(\"Degree\")  \n",
    "plt.xscale(\"log\")\n",
    "plt.yscale(\"log\")\n",
    "plt.show()\n"
   ]
  },
  {
   "cell_type": "markdown",
   "metadata": {},
   "source": [
    "## Score Distribution\n"
   ]
  },
  {
   "cell_type": "code",
   "execution_count": null,
   "metadata": {},
   "outputs": [],
   "source": [
    "plt.figure(figsize=(7, 5))\n",
    "sns.histplot(np.log10(biogrid_df['weight']), bins=50, kde=True)\n",
    "plt.xlabel(r\"$log_{10}$(Score)\")\n",
    "plt.ylabel(\"Frequency\")\n",
    "plt.title(\"Score Distribution in BioGRID PPI Network\")\n",
    "plt.yscale(\"log\")\n",
    "plt.show()\n"
   ]
  },
  {
   "cell_type": "markdown",
   "metadata": {},
   "source": [
    "## STRING PPI Network\n",
    "\n",
    "We download the complete STRING PPI network, version 12.0, from:\n",
    "[STRING Download](https://stringdb-downloads.org/download/protein.physical.links.v12.0/9606.protein.physical.links.v12.0.txt.gz)\n",
    "\n",
    "For further documentation, visit [STRING Database](https://string-db.org/).\n"
   ]
  },
  {
   "cell_type": "code",
   "execution_count": null,
   "metadata": {},
   "outputs": [],
   "source": [
    "# Define the URL for the STRING PPI dataset\n",
    "string_url = \"https://stringdb-downloads.org/download/protein.physical.links.v12.0/9606.protein.physical.links.v12.0.txt.gz\"\n",
    "\n",
    "# Define paths for temporary files\n",
    "string_gz_path = './tmp_string/string.gz'\n",
    "\n",
    "# Download and extract STRING data\n",
    "print(\"Downloading STRING dataset...\")\n",
    "tools.download_file(string_url, string_gz_path)\n",
    "tools.ungz_file(string_gz_path, \"./tmp_string/string_data\")\n",
    "\n",
    "print(\"Reading STRING dataset...\")\n",
    "string_df = pd.read_csv(\"./tmp_string/string_data/string\", sep=\"\\s+\", engine=\"python\")\n",
    "\n",
    "# Clean up temporary files\n",
    "shutil.rmtree(\"./tmp_string\")\n",
    "\n",
    "# Remove prefixes from protein names\n",
    "print(\"Processing protein names...\")\n",
    "string_df[\"protein1\"] = string_df[\"protein1\"].str.replace(\"9606.\", \"\", regex=False)\n",
    "string_df[\"protein2\"] = string_df[\"protein2\"].str.replace(\"9606.\", \"\", regex=False)\n",
    "\n",
    "# Convert Ensembl IDs to HGNC symbols\n",
    "ens_to_hgnc = tools.ensembl_to_hgnc(string_df)\n",
    "string_df[\"HGNC1\"] = string_df[\"protein1\"].map(ens_to_hgnc)\n",
    "string_df[\"HGNC2\"] = string_df[\"protein2\"].map(ens_to_hgnc)\n",
    "\n",
    "# Remove entries with unknown gene mappings\n",
    "string_df = string_df.query(\"HGNC1 != 'Unknown' and HGNC2 != 'Unknown'\")\n",
    "\n",
    "# Save the processed PPI network\n",
    "print(\"Saving filtered STRING dataset...\")\n",
    "string_df.to_csv(\"../../sup_data/alternative_ppi/ppi_string.csv\", index=False)\n"
   ]
  },
  {
   "cell_type": "markdown",
   "metadata": {},
   "source": [
    "## Convert STRING DataFrame to NetworkX Graph\n"
   ]
  },
  {
   "cell_type": "code",
   "execution_count": null,
   "metadata": {},
   "outputs": [],
   "source": [
    "# Rename 'combined_score' to 'weight' for NetworkX compatibility\n",
    "string_df = string_df.rename(columns={\"combined_score\": \"weight\"})\n",
    "\n",
    "# Create an undirected graph from the DataFrame\n",
    "G_string = nx.from_pandas_edgelist(string_df, 'HGNC1', 'HGNC2', edge_attr='weight', create_using=nx.Graph())\n",
    "\n",
    "print(f\"Nodes: {len(G_string.nodes)}\")\n",
    "print(f\"Edges: {len(G_string.edges)}\")\n"
   ]
  },
  {
   "cell_type": "markdown",
   "metadata": {},
   "source": [
    "## Degree Distribution of STRING Network\n"
   ]
  },
  {
   "cell_type": "code",
   "execution_count": null,
   "metadata": {},
   "outputs": [],
   "source": [
    "degree_sequence = [d for _, d in G_string.degree()]\n",
    "plt.figure(figsize=(7, 5))\n",
    "sns.scatterplot(\n",
    "    x=range(len(degree_sequence)), \n",
    "    y=sorted(degree_sequence, reverse=True), \n",
    "    edgecolor=None,\n",
    "    legend=False\n",
    ")\n",
    "plt.xlabel(\"Node Rank\")  \n",
    "plt.ylabel(\"Degree\")  \n",
    "plt.xscale(\"log\")\n",
    "plt.yscale(\"log\")\n",
    "plt.show()\n"
   ]
  },
  {
   "cell_type": "markdown",
   "metadata": {},
   "source": [
    "## Score Distribution of STRING Network\n"
   ]
  },
  {
   "cell_type": "code",
   "execution_count": null,
   "metadata": {},
   "outputs": [],
   "source": [
    "plt.figure(figsize=(7, 5))\n",
    "sns.histplot(string_df['weight'], bins=50, kde=True)\n",
    "plt.xlabel(\"Score\")\n",
    "plt.ylabel(\"Frequency\")\n",
    "plt.title(\"Score Distribution in STRING PPI Network\")\n",
    "plt.yscale(\"log\")\n",
    "plt.show()\n"
   ]
  }
 ],
 "metadata": {
  "kernelspec": {
   "display_name": "Python 3",
   "language": "python",
   "name": "python3"
  },
  "language_info": {
   "codemirror_mode": {
    "name": "ipython",
    "version": 3
   },
   "file_extension": ".py",
   "mimetype": "text/x-python",
   "name": "python",
   "nbconvert_exporter": "python",
   "pygments_lexer": "ipython3",
   "version": "3.11.7"
  }
 },
 "nbformat": 4,
 "nbformat_minor": 2
}
