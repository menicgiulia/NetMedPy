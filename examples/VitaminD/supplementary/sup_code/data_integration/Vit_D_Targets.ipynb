{
 "cells": [
  {
   "cell_type": "markdown",
   "metadata": {},
   "source": [
    "## Extraction of Vitamin D Targets\n",
    "\n",
    "This notebook demonstrates how to use **CPIExtract** to extract gene names (HGNC symbols) associated with Vitamin $D_3$ targets.\n",
    " \n",
    "Cholecalciferol (Vitamin $D_3$) is a fat-soluble vitamin that plays a crucial role in calcium and phosphorus metabolism, supporting bone health and immune function. It is synthesized in the skin upon exposure to sunlight and can also be obtained from dietary sources or supplements.\n",
    "\n",
    "### Required Packages\n",
    "Ensure that the following Python packages are installed before running this notebook: `pandas`, `numpy`, `pickle`, `zipfile`, `os`, `shutil` and `cpiextract`."
   ]
  },
  {
   "cell_type": "code",
   "execution_count": null,
   "metadata": {},
   "outputs": [],
   "source": [
    "import pandas as pd\n",
    "import numpy as np\n",
    "import pickle\n",
    "import zipfile\n",
    "import os\n",
    "import shutil\n",
    "\n",
    "from cpiextract import Comp2Prot\n",
    "import BioNetTools as tools"
   ]
  },
  {
   "cell_type": "markdown",
   "metadata": {},
   "source": [
    "### Unzipping Database Files\n",
    "We use **CPIExtract** to retrieve the targets of Cholecalciferol. \n",
    "\n",
    "**CPIExtract** incorportates and unifies drug targets from different sources:  \n",
    "\n",
    "- **BindingDB**\n",
    "- **STITCH**\n",
    "- **ChEMBL**\n",
    "- **CTD** (Comparative Toxicogenomics Database)\n",
    "- **DTC** (Drug Target Commons)\n",
    "- **DrugBank**\n",
    "- **DrugCentral**\n",
    "\n",
    "These databases have beeen downloaded and collected in the file `examples/VitaminD/sup_data/cpie_databases/Databases.zip`. Consult the [CPIExtract](https://github.com/menicgiulia/CPIExtract) repository for further information and documentation.\n",
    "\n",
    "First, we extract the databases"
   ]
  },
  {
   "cell_type": "code",
   "execution_count": null,
   "metadata": {},
   "outputs": [],
   "source": [
    "tools.unzip_file(\"../../sup_data/cpie_databases/Databases.zip\", \"../../sup_data/cpie_databases/Databases\")"
   ]
  },
  {
   "cell_type": "markdown",
   "metadata": {},
   "source": [
    "### Loading Databases\n",
    "Next, we load the extracted databases into a dictionary for further processing."
   ]
  },
  {
   "cell_type": "code",
   "execution_count": null,
   "metadata": {},
   "outputs": [],
   "source": [
    "# Define database directory path\n",
    "data_path = \"../../sup_data/cpie_databases/Databases\"\n",
    "\n",
    "# Load databases into pandas DataFrames\n",
    "\n",
    "# BindingDB (downloaded on 03/30/2023)\n",
    "file_path = os.path.join(data_path, 'BindingDB.csv')\n",
    "BDB_data = pd.read_csv(file_path, sep=',', usecols=['CID', 'Ligand SMILES', 'Ligand InChI', 'BindingDB MonomerID',\n",
    "                                                    'Ligand InChI Key', 'BindingDB Ligand Name',\n",
    "                                                    'Target Name Assigned by Curator or DataSource',\n",
    "                                                    'Target Source Organism According to Curator or DataSource',\n",
    "                                                    'Ki (nM)', 'IC50 (nM)', 'Kd (nM)', 'EC50 (nM)', 'pH', 'Temp (C)',\n",
    "                                                    'Curation/DataSource',\n",
    "                                                    'UniProt (SwissProt) Entry Name of Target Chain',\n",
    "                                                    'UniProt (SwissProt) Primary ID of Target Chain'],\n",
    "                         on_bad_lines='skip')\n",
    "\n",
    "# STITCH (downloaded on 02/22/2023)\n",
    "file_path = os.path.join(data_path, 'STITCH.tsv')\n",
    "sttch_data = pd.read_csv(file_path, sep='\\t')\n",
    "\n",
    "# ChEMBL (downloaded on 02/01/2024)\n",
    "file_path = os.path.join(data_path, 'ChEMBL.csv')\n",
    "chembl_data = pd.read_csv(file_path, sep=',')\n",
    "\n",
    "# CTD\n",
    "file_path = os.path.join(data_path, 'CTD.csv')\n",
    "CTD_data = pd.read_csv(file_path, sep=',')\n",
    "\n",
    "# DTC (downloaded on 02/24/2023)\n",
    "file_path = os.path.join(data_path, 'DTC.csv')\n",
    "DTC_data = pd.read_csv(file_path, sep=',', usecols=['CID', 'compound_id', 'standard_inchi_key', 'target_id',\n",
    "                                                    'gene_names', 'wildtype_or_mutant', 'mutation_info',\n",
    "                                                    'standard_type', 'standard_relation', 'standard_value',\n",
    "                                                    'standard_units', 'activity_comment', 'pubmed_id', 'doc_type'])\n",
    "\n",
    "# DrugBank (downloaded on 03/02/2022)\n",
    "file_path = os.path.join(data_path, 'DB.csv')\n",
    "DB_data = pd.read_csv(file_path, sep=',')\n",
    "\n",
    "# DrugCentral (downloaded on 02/25/2024)\n",
    "file_path = os.path.join(data_path, 'DrugCentral.csv')\n",
    "DC_data = pd.read_csv(file_path, sep=',')\n",
    "\n",
    "# Store all databases in a dictionary\n",
    "dbs = {\n",
    "    'chembl': chembl_data,\n",
    "    'bdb': BDB_data,\n",
    "    'stitch': sttch_data,\n",
    "    'ctd': CTD_data,\n",
    "    'dtc': DTC_data,\n",
    "    'db': DB_data,\n",
    "    'dc': DC_data\n",
    "}"
   ]
  },
  {
   "cell_type": "markdown",
   "metadata": {},
   "source": [
    "### Retrieving Targets for Cholecalciferol\n",
    "We identify the targets of Cholecalciferol using its International Compound Identifier or its [PubChem](https://pubchem.ncbi.nlm.nih.gov) CID: `5280795`."
   ]
  },
  {
   "cell_type": "code",
   "execution_count": null,
   "metadata": {},
   "outputs": [],
   "source": [
    "# Cholecalciferol (PubChem CID: 5280795)\n",
    "comp_id = 5280795\n",
    "\n",
    "# Initialize Comp2Prot\n",
    "C2P = Comp2Prot('local', dbs=dbs)\n",
    "\n",
    "# Search for interactions\n",
    "comp_dat, status = C2P.comp_interactions(input_id=comp_id)"
   ]
  },
  {
   "cell_type": "markdown",
   "metadata": {},
   "source": [
    "### Extracting Target Information\n",
    "CPIExtract retrieves all Cholecalciferol targets from the different databases, along with relevant interaction data."
   ]
  },
  {
   "cell_type": "code",
   "execution_count": null,
   "metadata": {},
   "outputs": [],
   "source": [
    "comp_dat"
   ]
  },
  {
   "cell_type": "markdown",
   "metadata": {},
   "source": [
    "### Saving Extracted Targets\n",
    "Finally, we extract and save the HGNC symbols of Cholecalciferol targets."
   ]
  },
  {
   "cell_type": "code",
   "execution_count": null,
   "metadata": {},
   "outputs": [],
   "source": [
    "# Extract HGNC symbols\n",
    "vd_targets = set(comp_dat.hgnc_symbol)\n",
    "\n",
    "# Save extracted targets\n",
    "with open(\"../../../data/input/drug_targets/vitd_targets_cpie.pkl\", 'wb') as file:\n",
    "    pickle.dump(vd_targets, file)\n",
    "\n",
    "# Clean up extracted database files\n",
    "shutil.rmtree(\"../../sup_data/cpie_databases/Databases\") "
   ]
  }
 ],
 "metadata": {
  "kernelspec": {
   "display_name": "Python 3",
   "language": "python",
   "name": "python3"
  },
  "language_info": {
   "codemirror_mode": {
    "name": "ipython",
    "version": 3
   },
   "file_extension": ".py",
   "mimetype": "text/x-python",
   "name": "python",
   "nbconvert_exporter": "python",
   "pygments_lexer": "ipython3",
   "version": "3.11.7"
  }
 },
 "nbformat": 4,
 "nbformat_minor": 2
}
