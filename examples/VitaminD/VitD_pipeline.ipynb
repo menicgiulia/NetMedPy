{
 "cells": [
  {
   "cell_type": "markdown",
   "metadata": {},
   "source": [
    "### Exploring Vitamin D’s Impact on Autoimmune, Cardiovascular, and Cancer Diseases: A Network Medicine Perspective Case Study with NetMedPy.\n",
    "\n",
    "**Authors:** Andres Aldana Gonzalez, Gordana Ispirova\n",
    "\n",
    "**Date:** 07-29-2024\n",
    "\n",
    "This script evaluates the role of Vitamin D in the modulation of autoimmune diseases, \n",
    "cardiovascular diseases and cancer from a network medicine perspective and reproduces the results presented in the paper \n",
    "\"NetMedPy: A Python package for Large-Scale Network Medicine Screening\"\n",
    "\n",
    "To run this script, please follow the detailed explanation provided in the [README](README.md). \n",
    "The README includes step-by-step instructions on setting up the environment, preparing the data, and executing the script.\n",
    "\n",
    "**Required Packages:**\n",
    "\n",
    "The next packages are required to run this script:\n",
    "\n",
    "`networkx, numpy, pandas, netmedpy, pickle, ray, matplotlib, seaborn`\n",
    "\n",
    "Import neccesary packages"
   ]
  },
  {
   "cell_type": "code",
   "execution_count": null,
   "metadata": {},
   "outputs": [],
   "source": [
    "#With the following lines of commands uncommented, you set the working directory to the VitaminD directory.\n",
    "#With the following lines of commands commented, you first need to navigate to the directory manually.\n",
    "#import os\n",
    "#os.chdir(\"/user_path_to/NetMedPy/examples/VitaminD/\")\n",
    "\n",
    "\n",
    "import networkx as nx\n",
    "import numpy as np\n",
    "import pandas as pd\n",
    "\n",
    "import netmedpy\n",
    "import matplotlib.pyplot as plt\n",
    "\n",
    "import pickle\n",
    "import ray\n",
    "\n",
    "import seaborn as sns\n",
    "\n",
    "\n",
    "plt.style.use('seaborn-v0_8-colorblind')\n",
    "plt.rcParams[\"figure.figsize\"] = [9,6]\n",
    "plt.rcParams[\"figure.autolayout\"] = True\n",
    "font = 20\n",
    "\n",
    "plt.rcParams['font.size'] = font\n",
    "plt.rcParams.update({'font.size':font})\n",
    "# Set the axes labels font size\n",
    "plt.rc('axes', labelsize=font)\n",
    "# Set the font size for x tick labels\n",
    "plt.rc('xtick', labelsize=font)\n",
    "# Set the font size for y tick labels\n",
    "plt.rc('ytick', labelsize=font)\n"
   ]
  },
  {
   "cell_type": "markdown",
   "metadata": {},
   "source": [
    "### Specify the number of cores used for calculations"
   ]
  },
  {
   "cell_type": "code",
   "execution_count": null,
   "metadata": {},
   "outputs": [],
   "source": [
    "n_procs = 30"
   ]
  },
  {
   "cell_type": "markdown",
   "metadata": {},
   "source": [
    "#### Load PPI network, Vitamin D targets and Disease genes:"
   ]
  },
  {
   "cell_type": "code",
   "execution_count": null,
   "metadata": {},
   "outputs": [],
   "source": [
    "def save(obj, file):\n",
    "    with open(file,\"wb\") as file:\n",
    "        pickle.dump(obj,file)\n",
    "\n",
    "def load(file):\n",
    "    with open(file,\"rb\") as file:\n",
    "        obj = pickle.load(file)\n",
    "\n",
    "    return obj\n",
    "\n",
    "#Load PPI network\n",
    "ppi = load(\"data/input/ppi/ppi_network.pkl\")\n",
    "\n",
    "#Load drug targets\n",
    "targets = load(\"data/input/drug_targets/vitd_targets_cpie.pkl\")\n",
    "targets = targets & set(ppi.nodes)\n",
    "\n",
    "#Load disease genes\n",
    "disease_genes = load(\"data/input/disease_genes/disease_genes_merge.pkl\")\n",
    "for d,g in disease_genes.items():\n",
    "    disease_genes[d] = set(g) & set(ppi.nodes)"
   ]
  },
  {
   "cell_type": "markdown",
   "metadata": {},
   "source": [
    "#### Subgraph statistics and filtering. \n",
    "\n",
    "Evaluate the size and statistical significance of the largest connected component of each disease"
   ]
  },
  {
   "cell_type": "code",
   "execution_count": null,
   "metadata": {},
   "outputs": [],
   "source": [
    "#Function to plot the LCC statistical significance#\n",
    "\n",
    "def plot_lcc_significance(lcc_data):\n",
    "\n",
    "    df = lcc_data.sort_values(by=\"size\",ascending=False)\n",
    "    df = df.fillna(0)\n",
    "\n",
    "    #plot size\n",
    "    plt.figure()\n",
    "    plt.bar(df['disease'], df['size'])\n",
    "    plt.axhline(y=10,linestyle=\"--\",color=\"grey\",linewidth=2)\n",
    "    plt.ylabel('LCC Size')\n",
    "    plt.xticks(rotation=45, ha='right')  # Rotate labels 45 degrees and align them right\n",
    "    plt.yscale(\"log\")\n",
    "    plt.show()\n",
    "\n",
    "    #plot z-score\n",
    "    plt.figure()\n",
    "    plt.bar(df['disease'], df['zscore'])\n",
    "    plt.axhline(y=2,linestyle=\"--\",color=\"grey\",linewidth=2)\n",
    "    plt.ylabel('LCC Z-Score')\n",
    "    plt.xticks(rotation=45, ha='right')  # Rotate labels 45 degrees and align them right\n",
    "    plt.show()\n",
    "\n",
    "    #plot p-value\n",
    "    plt.figure()\n",
    "    plt.bar(df['disease'], df['pval'])\n",
    "    plt.axhline(y=0.05,linestyle=\"--\",color=\"grey\",linewidth=2)\n",
    "    plt.ylabel('LCC p-value')\n",
    "    plt.xticks(rotation=45, ha='right')  # Rotate labels 45 degrees and align them right\n",
    "    plt.yscale(\"log\")\n",
    "    plt.show()\n"
   ]
  },
  {
   "cell_type": "markdown",
   "metadata": {},
   "source": [
    "Actual evaluation of the LCCs. Results are stored in `output/lcc_size.pkl`"
   ]
  },
  {
   "cell_type": "code",
   "execution_count": null,
   "metadata": {},
   "outputs": [],
   "source": [
    "lcc_size = pd.DataFrame(columns = [\"disease\",\"size\",\"zscore\",\"pval\"])\n",
    "\n",
    "for d,genes in disease_genes.items():\n",
    "    data = netmedpy.lcc_significance(ppi, genes,\n",
    "                                      null_model=\"log_binning\",n_iter=10000)\n",
    "\n",
    "    new_line = [d,data[\"lcc_size\"],data[\"z_score\"],data[\"p_val\"]]\n",
    "    lcc_size.loc[len(lcc_size.index)] = new_line\n",
    "\n",
    "save(lcc_size,\"output/lcc_size.pkl\")\n",
    "#lcc_size = load(\"lcc_size.pkl\")\n",
    "\n",
    "plot_lcc_significance(lcc_size)"
   ]
  },
  {
   "cell_type": "markdown",
   "metadata": {},
   "source": [
    "### Calculate shortest path distance matrix between node pairs\n",
    "\n",
    "This matrix helps improve further calculations. This one takes some time. Be patient ..."
   ]
  },
  {
   "cell_type": "code",
   "execution_count": null,
   "metadata": {},
   "outputs": [],
   "source": [
    "sp_distance = netmedpy.all_pair_distances(ppi,distance=\"shortest_path\",\n",
    "                                          n_processors=n_procs,n_tasks=1000)"
   ]
  },
  {
   "cell_type": "markdown",
   "metadata": {},
   "source": [
    "### CALCULATE PROXIMITY FROM VITAMIN D TO ALL DISEASES\n",
    "\n",
    "We use the function screening to calculate the proximity distance between the Vitamin D drug targets and all the disease genes of the different diseases analyzed. Results are then saved in `output/screen.pkl`"
   ]
  },
  {
   "cell_type": "code",
   "execution_count": null,
   "metadata": {},
   "outputs": [],
   "source": [
    "vit_d = {\"Vitamin D\":targets}\n",
    "screen_data = netmedpy.screening(vit_d, disease_genes, ppi,\n",
    "                                    sp_distance,score=\"proximity\",\n",
    "                                    properties=[\"z_score\",\"raw_amspl\"],\n",
    "                                    null_model=\"log_binning\",\n",
    "                                    n_iter=10000,n_procs=n_procs)\n",
    "\n",
    "save(screen_data,\"output/screen.pkl\")\n",
    "#screen_data = load(\"screen.pkl\")"
   ]
  },
  {
   "cell_type": "markdown",
   "metadata": {},
   "source": [
    "Results of the screening"
   ]
  },
  {
   "cell_type": "code",
   "execution_count": null,
   "metadata": {},
   "outputs": [],
   "source": [
    "def plot_screening(sdata):\n",
    "    vdata = sdata.T\n",
    "    vdata = vdata.reset_index()\n",
    "    vdata.columns = [\"disease\",\"zscore\"]\n",
    "    vdata = vdata.sort_values(by=\"zscore\",ascending=True)\n",
    "\n",
    "\n",
    "    ##Proximity\n",
    "    plt.figure()\n",
    "    plt.axhline(y=0,linestyle=\"--\",linewidth=2,color=\"grey\")\n",
    "    plt.plot(vdata['disease'], vdata['zscore'], marker='o', linestyle='-',markersize=12,linewidth=2)\n",
    "    plt.xticks(rotation=45,ha='right')\n",
    "    plt.ylabel('Proximity Z-Score')\n",
    "    plt.show()\n",
    "\n",
    "plot_screening(screen_data['z_score'])"
   ]
  },
  {
   "cell_type": "markdown",
   "metadata": {},
   "source": [
    "#### A closer look at proximity between Vitamin D, Inflammation and Factor IX deficiency\n",
    "\n",
    "Proximity (defined as the Z-score of the AMSPL between node sets A and B) shows that Vitamin D has a closer relationship with Inflammation when compared with Factor IX deficiency. The AMSPL distribution shows that the paths from Vitamin D and Inflammation are indeed significantly smaller when compared with Factor IX deficiency. Results of this analysis are stored in `output/d1_d2.pkl`"
   ]
  },
  {
   "cell_type": "code",
   "execution_count": null,
   "metadata": {},
   "outputs": [],
   "source": [
    "vdata = screen_data['z_score'].T\n",
    "vdata = vdata.reset_index()\n",
    "vdata.columns = [\"disease\",\"zscore\"]\n",
    "vdata = vdata.sort_values(by=\"zscore\",ascending=True)\n",
    "vdata = vdata.reset_index(drop=True)\n",
    "\n",
    "\n",
    "d_name1 = vdata.loc[0,'disease']\n",
    "d1 = netmedpy.proximity(ppi, targets,\n",
    "                                    disease_genes[d_name1], sp_distance,\n",
    "                                    null_model=\"log_binning\",n_iter=10000,\n",
    "                                    symmetric=False)\n",
    "\n",
    "d_name2 = vdata.loc[len(vdata.index)-1,'disease']\n",
    "d2 = netmedpy.proximity(ppi, targets,\n",
    "                                    disease_genes[d_name2], sp_distance,\n",
    "                                    null_model=\"log_binning\",n_iter=10000,\n",
    "                                    symmetric=False)\n",
    "\n",
    "save( (d_name1,d_name2,d1,d2),\"output/d1_d2.pkl\" )"
   ]
  },
  {
   "cell_type": "markdown",
   "metadata": {},
   "source": [
    "Plot results"
   ]
  },
  {
   "cell_type": "code",
   "execution_count": null,
   "metadata": {},
   "outputs": [],
   "source": [
    "def plot_histograms(d_name1,d_name2, d1, d2,yl1,yl2,yl3):\n",
    "\n",
    "    plt.figure(figsize=(10,7))\n",
    "    sns.kdeplot(d1['dist'], color='blue', fill=True,\n",
    "                alpha=0.5, label=d_name1,bw_adjust=1.5)\n",
    "    sns.kdeplot(d2['dist'], color='red', fill=True,\n",
    "                alpha=0.5, label=d_name2,bw_adjust=1.5)\n",
    "\n",
    "\n",
    "    plt.axvline(x=d1['raw_amspl'],linewidth=10,\n",
    "                color='blue',alpha=0.5)\n",
    "    plt.text(x=d1['raw_amspl'], y=yl2,\n",
    "             s=f\"  Z = {d1['z_score']:.2f}\",\n",
    "             color='blue', verticalalignment='top',\n",
    "             horizontalalignment='left',fontsize=20)\n",
    "\n",
    "\n",
    "    plt.axvline(x=d2['raw_amspl'],linewidth=10,color='red',alpha=0.5)\n",
    "\n",
    "    plt.text(x=d2['raw_amspl'], y=yl3,\n",
    "             s=f\"  Z = {d2['z_score']:.2f}\",\n",
    "             color='red', verticalalignment='top',\n",
    "             horizontalalignment='left',fontsize=20)\n",
    "\n",
    "    plt.xlabel('AMSPL from Vitamin D')\n",
    "    plt.ylabel('Density')\n",
    "    plt.ylim(0,yl1)\n",
    "    plt.legend(loc='upper center',frameon=False)\n",
    "    plt.show()\n",
    "\n",
    "plot_histograms(d_name1,d_name2,d1, d2,7,6.5,6.5)"
   ]
  },
  {
   "cell_type": "markdown",
   "metadata": {},
   "source": [
    "### AMSPL equivalent under different distance metrics\n",
    "\n",
    "We calculated the AMSPL-equivalent for four different distance metrics, finding a robust ranking of the results under different notions of distance. Results stored in `output/amspl.pkl`"
   ]
  },
  {
   "cell_type": "code",
   "execution_count": null,
   "metadata": {},
   "outputs": [],
   "source": [
    "#Shortest Paths was calculated in previous processes\n",
    "amspl = {\"Shortest Path\":screen_data[\"raw_amspl\"]}\n",
    "\n",
    "#Random Walks\n",
    "sp_distance = netmedpy.all_pair_distances(ppi,distance=\"random_walk\")\n",
    "sd = netmedpy.screening(vit_d, disease_genes, ppi,\n",
    "                                    sp_distance,score=\"proximity\",\n",
    "                                    properties=[\"raw_amspl\"],\n",
    "                                    null_model=\"log_binning\",\n",
    "                                    n_iter=10,n_procs=n_procs)\n",
    "\n",
    "amspl[\"Random Walks\"] = sd[\"raw_amspl\"]\n",
    "\n",
    "#Biased Random Walks\n",
    "sp_distance = netmedpy.all_pair_distances(ppi,distance=\"biased_random_walk\")\n",
    "sd = netmedpy.screening(vit_d, disease_genes, ppi,\n",
    "                                    sp_distance,score=\"proximity\",\n",
    "                                    properties=[\"raw_amspl\"],\n",
    "                                    null_model=\"log_binning\",\n",
    "                                    n_iter=10,n_procs=n_procs)\n",
    "\n",
    "amspl[\"Biased Random Walks\"] = sd[\"raw_amspl\"]\n",
    "\n",
    "\n",
    "#Communicability\n",
    "sp_distance = netmedpy.all_pair_distances(ppi,distance=\"communicability\")\n",
    "sd = netmedpy.screening(vit_d, disease_genes, ppi,\n",
    "                                    sp_distance,score=\"proximity\",\n",
    "                                    properties=[\"raw_amspl\"],\n",
    "                                    null_model=\"log_binning\",\n",
    "                                    n_iter=10,n_procs=n_procs)\n",
    "\n",
    "amspl[\"Communicability\"] = sd[\"raw_amspl\"]\n",
    "\n",
    "\n",
    "save(amspl,\"output/amspl.pkl\")\n",
    "#amspl = load(\"output/amspl.pkl\")"
   ]
  },
  {
   "cell_type": "markdown",
   "metadata": {},
   "source": [
    "Plot results"
   ]
  },
  {
   "cell_type": "code",
   "execution_count": null,
   "metadata": {},
   "outputs": [],
   "source": [
    "def plot_amspl(amspl, z_score):\n",
    "    metrics = [\"Shortest Path\",\"Random Walks\",\"Biased Random Walks\", \"Communicability\"]\n",
    "    df = amspl[\"Shortest Path\"].T\n",
    "    df = df.reset_index()\n",
    "    df.columns = [\"disease\",\"Shortest Path\"]\n",
    "\n",
    "    for i in range(1,len(metrics)):\n",
    "        dnew = amspl[metrics[i]].T\n",
    "        dnew = dnew.reset_index()\n",
    "        dnew.columns = [\"disease\",metrics[i]]\n",
    "\n",
    "        df = pd.merge(df,dnew,on=\"disease\")\n",
    "\n",
    "    df = df.sort_values(by=\"Shortest Path\")\n",
    "\n",
    "\n",
    "    z_score = screen_data[\"z_score\"]\n",
    "    zdf = z_score.T\n",
    "    zdf.reset_index(inplace=True)\n",
    "    zdf.columns=[\"disease\",\"z_score\"]\n",
    "\n",
    "    df = pd.merge(df,zdf,on=\"disease\")\n",
    "    df = df.sort_values(by=\"z_score\")\n",
    "\n",
    "\n",
    "    plt.figure(figsize=(10,8))\n",
    "    for m in metrics:\n",
    "        plt.plot(df['disease'], df[m]/max(df[m]), marker='o',\n",
    "                 linestyle='-',markersize=12,linewidth=2,label=m)\n",
    "\n",
    "    plt.ylabel(\"Normalized AMSPL\")\n",
    "    plt.xticks(rotation=90,ha='center')\n",
    "    plt.legend(loc=\"best\",frameon=False)\n",
    "    plt.show()\n",
    "\n",
    "\n",
    "    corr = df.drop('disease', axis=1).astype(float).corr(method='spearman')\n",
    "    plt.figure(figsize=(10, 8))\n",
    "\n",
    "    cmap = sns.diverging_palette(230, 20, as_cmap=True)\n",
    "\n",
    "    # Draw the heatmap with the correct aspect ratio\n",
    "    sns.heatmap(corr, cmap=cmap, center=0, vmax=1,vmin=-1,\n",
    "                annot=True, fmt=\".2f\", annot_kws={'size': 20,'color':'black'},\n",
    "                square=True, linewidths=.5, cbar_kws={\"shrink\": 1})\n",
    "\n",
    "    # Rotate x-axis labels and set them\n",
    "    plt.xticks(np.arange(len(corr.columns)) + 0.5, corr.columns, rotation=45, ha='right')\n",
    "    plt.yticks(np.arange(len(corr.columns)) + 0.5, corr.columns, rotation=0)\n",
    "\n",
    "    # Show the plot\n",
    "    plt.tight_layout()  # Adjusts plot to ensure everything fits without overlap\n",
    "    plt.show()\n",
    "\n",
    "plot_amspl(amspl,screen_data[\"z_score\"])"
   ]
  },
  {
   "cell_type": "markdown",
   "metadata": {},
   "source": [
    "### NetMedPy Performance evaluation\n",
    "\n",
    "NetMedPy leverages parallelism and pre-calculated distances between all pairs of nodes in the network to enhance performance.  We illustrate the execution time of NetMedPy for calculating proximity between random node sets of increasing size. We show that NetMedPy completes this task much faster than the unoptimized proximity code."
   ]
  },
  {
   "cell_type": "markdown",
   "metadata": {},
   "source": [
    "Import additional functions"
   ]
  },
  {
   "cell_type": "code",
   "execution_count": null,
   "metadata": {},
   "outputs": [],
   "source": [
    "from Cronometer import Cronometer as cronometer\n",
    "import guney.network as p_network\n",
    "\n",
    "import ray\n",
    "import random\n",
    "import time as time_functions\n",
    "import scipy.optimize as opt"
   ]
  },
  {
   "cell_type": "markdown",
   "metadata": {},
   "source": [
    "Auxiliary functions for parallel calculations"
   ]
  },
  {
   "cell_type": "code",
   "execution_count": null,
   "metadata": {},
   "outputs": [],
   "source": [
    "@ray.remote\n",
    "def calc_proximity(size,r, mat, ppi):\n",
    "    c = cronometer()\n",
    "    \n",
    "    nodes = list(ppi.nodes)\n",
    "    \n",
    "    ag_net = p_network.Network(ppi)\n",
    "\n",
    "    print(f\"Size {size} rep {r}\")\n",
    "    a = random.sample(nodes, size)\n",
    "    b = random.sample(nodes,size)\n",
    "    \n",
    "    c.tick()\n",
    "    netmedpy.proximity(ppi, a, b, mat,null_model=\"log_binning\",n_iter=100,bin_size=100)\n",
    "    c.tock()\n",
    "    \n",
    "    time_new = c.elapsed_seconds\n",
    "    \n",
    "    c.tick()\n",
    "    ag_net.get_proximity(a, b,bin_size=100,n_iter=100)\n",
    "    c.tock()\n",
    "    \n",
    "    time_old = c.elapsed_seconds\n",
    "                \n",
    "    print(f\"Done Size {size} rep {r}\")\n",
    "    \n",
    "    return (size,r,time_old,time_new)\n",
    "    \n",
    "\n",
    "def size_increasing_time(mat,ppi, ini_size,end_size, increment,num_cpus,reps):\n",
    "    v = np.arange(ini_size,end_size,increment)\n",
    "    \n",
    "    df = pd.DataFrame({\"size\":v,\"old\":0,\"new\":0})\n",
    "    df.set_index(\"size\",inplace=True)\n",
    "\n",
    "    ray.shutdown()\n",
    "    ray.init(num_cpus = num_cpus,log_to_driver=True)\n",
    "    \n",
    "    mat_ref = ray.put(mat)\n",
    "    ppi_ref = ray.put(ppi)\n",
    "    \n",
    "    futures = []\n",
    "\n",
    "    for s in v:\n",
    "        for r in range(reps):\n",
    "            f = calc_proximity.remote(s,r, mat_ref, ppi_ref) \n",
    "            futures.append(f)\n",
    "    \n",
    "    res = list(ray.get(futures))\n",
    "    \n",
    "    ray.shutdown()\n",
    "    \n",
    "    for s,r,o,n in res:\n",
    "        df.loc[s,\"old\"] = df.loc[s,\"old\"] + o\n",
    "        df.loc[s,\"new\"] = df.loc[s,\"new\"] + n\n",
    "\n",
    "    df[\"old\"] = (1.0*df[\"old\"]) /reps\n",
    "    df[\"new\"] = (1.0*df[\"new\"]) /reps\n",
    "\n",
    "    df.reset_index(inplace=True)\n",
    "\n",
    "    return df"
   ]
  },
  {
   "cell_type": "markdown",
   "metadata": {},
   "source": [
    "Parameter definition and execution"
   ]
  },
  {
   "cell_type": "code",
   "execution_count": null,
   "metadata": {},
   "outputs": [],
   "source": [
    "ppi_file = \"data/input/ppi/ppi_network.pkl\"\n",
    "ppi = load(ppi_file)\n",
    "\n",
    "print(\"Calculating proximity size dependent\")\n",
    "\n",
    "# Lets calculate the time as the size increases\n",
    "ini = 50\n",
    "end = 250\n",
    "step = 10\n",
    "reps = 10\n",
    "num_cpus = n_procs\n",
    "\n",
    "ptime = size_increasing_time(sp_distance,ppi,ini,end,step,num_cpus,reps)\n",
    "ptime.to_csv(\"output/performance_size.csv\")"
   ]
  },
  {
   "cell_type": "markdown",
   "metadata": {},
   "source": [
    "Plot results"
   ]
  },
  {
   "cell_type": "code",
   "execution_count": null,
   "metadata": {},
   "outputs": [],
   "source": [
    "def quadratic(x,a,b,c):\n",
    "    return a * x**2 + b * x + c\n",
    "\n",
    "params_old, _ = opt.curve_fit(quadratic,ptime[\"size\"],ptime[\"old\"])\n",
    "ao,bo,co = params_old\n",
    "\n",
    "x_o = np.linspace(min(ptime[\"size\"]), max(ptime[\"size\"]), 100)\n",
    "y_o = quadratic(x_o, ao, bo, co)\n",
    "\n",
    "\n",
    "\n",
    "params_new, _ = opt.curve_fit(quadratic,ptime[\"size\"],ptime[\"new\"])\n",
    "an,bn,cn = params_new\n",
    "\n",
    "x_n = np.linspace(min(ptime[\"size\"]), max(ptime[\"size\"]), 100)\n",
    "y_n = quadratic(x_n, an, bn, cn)\n",
    "\n",
    "\n",
    "plt.figure(figsize=(10,7))\n",
    "plt.scatter(ptime[\"size\"],ptime[\"old\"],color=\"black\",s=60,label=\"Not optimized\")\n",
    "plt.plot(x_o,y_o,color=\"black\")\n",
    "\n",
    "plt.scatter(ptime[\"size\"],ptime[\"new\"],color=\"red\",s=60,label=\"NetMedPy\")\n",
    "plt.plot(x_n,y_n,color=\"red\")\n",
    "\n",
    "plt.xlabel(\"Size\")\n",
    "plt.ylabel(\"log(t) (s)\")\n",
    "plt.yscale(\"log\")\n",
    "plt.legend(loc=\"best\",frameon=False)\n",
    "plt.show()"
   ]
  }
 ],
 "metadata": {
  "kernelspec": {
   "display_name": "Python 3 (ipykernel)",
   "language": "python",
   "name": "python3"
  },
  "language_info": {
   "codemirror_mode": {
    "name": "ipython",
    "version": 3
   },
   "file_extension": ".py",
   "mimetype": "text/x-python",
   "name": "python",
   "nbconvert_exporter": "python",
   "pygments_lexer": "ipython3",
   "version": "3.11.7"
  }
 },
 "nbformat": 4,
 "nbformat_minor": 2
}
