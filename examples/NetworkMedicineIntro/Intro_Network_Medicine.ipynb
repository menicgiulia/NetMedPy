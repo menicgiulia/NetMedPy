{
 "cells": [
  {
   "cell_type": "markdown",
   "metadata": {},
   "source": [
    "# Introduction to Network Medicine\n",
    "\n",
    "Network medicine applies network science to understand the complexity of human diseases. In this tutorial, we will walk through a practical workflow using the `netmedpy` package to explore how molecular interactions and disease-gene associations can be integrated to gain mechanistic insights and identify potential therapeutic opportunities.\n",
    "\n",
    "This notebook will guide you through:\n",
    "- Building a protein-protein interaction (PPI) network from STRING data.\n",
    "- Identifying Vitamin D protein targets from multiple compound-target interaction databases using `CPIExtract`.\n",
    "- Collecting disease-associated genes from DisGeNet.\n",
    "- Calculating network-based proximity between Vitamin D targets and disease genes.\n",
    "- Comparing proximity z-scores using two different null models.\n",
    "\n",
    "Let's get started!"
   ]
  },
  {
   "cell_type": "markdown",
   "metadata": {},
   "source": [
    "## Load Required Libraries\n",
    "\n",
    "We start by importing the necessary Python libraries, including `netmedpy`, `cpiextract`, and standard packages for data manipulation and visualization.\n"
   ]
  },
  {
   "cell_type": "code",
   "execution_count": 1,
   "metadata": {},
   "outputs": [],
   "source": [
    "import pandas as pd\n",
    "import numpy as np\n",
    "import requests\n",
    "import zipfile\n",
    "import gzip\n",
    "import shutil\n",
    "import os\n",
    "import mygene\n",
    "import networkx as nx\n",
    "import json\n",
    "import matplotlib.pyplot as plt\n",
    "import seaborn as sns\n",
    "\n",
    "import tools\n",
    "import netmedpy\n",
    "from cpiextract import Comp2Prot\n"
   ]
  },
  {
   "cell_type": "markdown",
   "metadata": {},
   "source": [
    "## Download STRING PPI Interactions\n",
    "\n",
    "We download and process the human protein-protein interaction dataset from STRING (version 12). We then:\n",
    "- Filter high-confidence physical interactions (score > 300),\n",
    "- Convert Ensembl protein IDs to HGNC symbols,\n",
    "- Extract the largest connected component (LCC),\n",
    "- And save the resulting network in `output/string_ppi_filtered.csv`.\n"
   ]
  },
  {
   "cell_type": "code",
   "execution_count": 2,
   "metadata": {},
   "outputs": [
    {
     "name": "stdout",
     "output_type": "stream",
     "text": [
      "Downloading STRING dataset...\n",
      "File downloaded successfully and saved to ./tmp_string/string.gz\n",
      "File extracted to: ./tmp_string/string_data/string\n",
      "Reading STRING dataset...\n",
      "Processing protein names...\n"
     ]
    },
    {
     "name": "stderr",
     "output_type": "stream",
     "text": [
      "Input sequence provided is already in string format. No operation performed\n",
      "Input sequence provided is already in string format. No operation performed\n",
      "364 input query terms found no hit:\t['ENSP00000053469', 'ENSP00000074304', 'ENSP00000155858', 'ENSP00000224807', 'ENSP00000224862', 'ENS\n"
     ]
    },
    {
     "name": "stdout",
     "output_type": "stream",
     "text": [
      "Nodes: 16785\n",
      "Edges: 280081\n"
     ]
    }
   ],
   "source": [
    "# Define the URL for the STRING PPI dataset\n",
    "string_url = \"https://stringdb-downloads.org/download/protein.physical.links.v12.0/9606.protein.physical.links.v12.0.txt.gz\"\n",
    "\n",
    "# Define paths for temporary files\n",
    "string_gz_path = './tmp_string/string.gz'\n",
    "\n",
    "# Download and extract STRING data\n",
    "print(\"Downloading STRING dataset...\")\n",
    "tools.download_file(string_url, string_gz_path)\n",
    "tools.ungz_file(string_gz_path, \"./tmp_string/string_data\")\n",
    "\n",
    "print(\"Reading STRING dataset...\")\n",
    "string_df = pd.read_csv(\"./tmp_string/string_data/string\", sep=\"\\s+\", engine=\"python\")\n",
    "\n",
    "# Clean up temporary files\n",
    "shutil.rmtree(\"./tmp_string\")\n",
    "\n",
    "# Remove prefixes from protein names\n",
    "print(\"Processing protein names...\")\n",
    "string_df[\"protein1\"] = string_df[\"protein1\"].str.replace(\"9606.\", \"\", regex=False)\n",
    "string_df[\"protein2\"] = string_df[\"protein2\"].str.replace(\"9606.\", \"\", regex=False)\n",
    "\n",
    "# Convert Ensembl IDs to HGNC symbols\n",
    "ens_to_hgnc = tools.ensembl_to_hgnc(string_df)\n",
    "string_df[\"HGNC1\"] = string_df[\"protein1\"].map(ens_to_hgnc)\n",
    "string_df[\"HGNC2\"] = string_df[\"protein2\"].map(ens_to_hgnc)\n",
    "\n",
    "# Remove entries with unknown gene mappings\n",
    "string_df = string_df.query(\"HGNC1 != 'Unknown' and HGNC2 != 'Unknown'\")\n",
    "string_df = string_df.rename(columns={\"combined_score\": \"weight\"})\n",
    "\n",
    "filtered_df = string_df.query(\"weight > 300\")\n",
    "G_string = nx.from_pandas_edgelist(filtered_df, 'HGNC1', 'HGNC2', create_using=nx.Graph())\n",
    "\n",
    "G_string = netmedpy.extract_lcc(G_string.nodes, G_string)\n",
    "\n",
    "print(f\"Nodes: {len(G_string.nodes)}\")\n",
    "print(f\"Edges: {len(G_string.edges)}\")\n",
    "\n",
    "\n",
    "# Save to CSV\n",
    "df_edges = nx.to_pandas_edgelist(G_string)\n",
    "df_edges.to_csv(\"output/string_ppi_filtered.csv\", index=False)\n",
    "\n"
   ]
  },
  {
   "cell_type": "markdown",
   "metadata": {},
   "source": [
    "## Extract Vitamin D Targets with CPIExtract\n",
    "\n",
    "We extract protein targets of Cholecalciferol (Vitamin D3, PubChem CID: 5280795) using the `Comp2Prot` module from `cpiextract`. The tool integrates multiple drug-target interaction databases, including ChEMBL, STITCH, BindingDB, CTD, and more.\n"
   ]
  },
  {
   "cell_type": "markdown",
   "metadata": {},
   "source": [
    "### Construct Compound-Target Database\n",
    "\n",
    "We unzip and load all required compound-target databases into memory. These databases provide curated chemical–protein interaction data from various sources.\n",
    "\n",
    "The databases are stored in `output/cpie_Databases`\n"
   ]
  },
  {
   "cell_type": "code",
   "execution_count": 3,
   "metadata": {},
   "outputs": [
    {
     "name": "stdout",
     "output_type": "stream",
     "text": [
      "Files extracted to: ./output/cpie_Databases\n"
     ]
    },
    {
     "name": "stderr",
     "output_type": "stream",
     "text": [
      "/tmp/ipykernel_245169/2984009514.py:13: DtypeWarning: Columns (8,9,10,11,15,40,41) have mixed types. Specify dtype option on import or set low_memory=False.\n",
      "  BDB_data = pd.read_csv(file_path, sep=',', usecols=['CID', 'Ligand SMILES', 'Ligand InChI', 'BindingDB MonomerID',\n",
      "/tmp/ipykernel_245169/2984009514.py:29: DtypeWarning: Columns (27,28,30,31,44,45) have mixed types. Specify dtype option on import or set low_memory=False.\n",
      "  chembl_data = pd.read_csv(file_path, sep=',')\n",
      "/tmp/ipykernel_245169/2984009514.py:37: DtypeWarning: Columns (0,1,8,14) have mixed types. Specify dtype option on import or set low_memory=False.\n",
      "  DTC_data = pd.read_csv(file_path, sep=',', usecols=['CID', 'compound_id', 'standard_inchi_key', 'target_id',\n"
     ]
    }
   ],
   "source": [
    "# Define database directory path\n",
    "data_path = \"./output/cpie_Databases\"\n",
    "\n",
    "if os.path.exists(data_path):\n",
    "    shutil.rmtree(data_path)\n",
    "\n",
    "tools.unzip_file(\"../VitaminD/supplementary/sup_data/cpie_databases/Databases.zip\", data_path)\n",
    "\n",
    "# Load databases into pandas DataFrames\n",
    "\n",
    "# BindingDB (downloaded on 03/30/2023)\n",
    "file_path = os.path.join(data_path, 'BindingDB.csv')\n",
    "BDB_data = pd.read_csv(file_path, sep=',', usecols=['CID', 'Ligand SMILES', 'Ligand InChI', 'BindingDB MonomerID',\n",
    "                                                    'Ligand InChI Key', 'BindingDB Ligand Name',\n",
    "                                                    'Target Name Assigned by Curator or DataSource',\n",
    "                                                    'Target Source Organism According to Curator or DataSource',\n",
    "                                                    'Ki (nM)', 'IC50 (nM)', 'Kd (nM)', 'EC50 (nM)', 'pH', 'Temp (C)',\n",
    "                                                    'Curation/DataSource',\n",
    "                                                    'UniProt (SwissProt) Entry Name of Target Chain',\n",
    "                                                    'UniProt (SwissProt) Primary ID of Target Chain'],\n",
    "                         on_bad_lines='skip')\n",
    "\n",
    "# STITCH (downloaded on 02/22/2023)\n",
    "file_path = os.path.join(data_path, 'STITCH.tsv')\n",
    "sttch_data = pd.read_csv(file_path, sep='\\t')\n",
    "\n",
    "# ChEMBL (downloaded on 02/01/2024)\n",
    "file_path = os.path.join(data_path, 'ChEMBL.csv')\n",
    "chembl_data = pd.read_csv(file_path, sep=',')\n",
    "\n",
    "# CTD\n",
    "file_path = os.path.join(data_path, 'CTD.csv')\n",
    "CTD_data = pd.read_csv(file_path, sep=',')\n",
    "\n",
    "# DTC (downloaded on 02/24/2023)\n",
    "file_path = os.path.join(data_path, 'DTC.csv')\n",
    "DTC_data = pd.read_csv(file_path, sep=',', usecols=['CID', 'compound_id', 'standard_inchi_key', 'target_id',\n",
    "                                                    'gene_names', 'wildtype_or_mutant', 'mutation_info',\n",
    "                                                    'standard_type', 'standard_relation', 'standard_value',\n",
    "                                                    'standard_units', 'activity_comment', 'pubmed_id', 'doc_type'])\n",
    "\n",
    "# DrugBank (downloaded on 03/02/2022)\n",
    "file_path = os.path.join(data_path, 'DB.csv')\n",
    "DB_data = pd.read_csv(file_path, sep=',')\n",
    "\n",
    "# DrugCentral (downloaded on 02/25/2024)\n",
    "file_path = os.path.join(data_path, 'DrugCentral.csv')\n",
    "DC_data = pd.read_csv(file_path, sep=',')\n",
    "\n",
    "# Store all databases in a dictionary\n",
    "dbs = {\n",
    "    'chembl': chembl_data,\n",
    "    'bdb': BDB_data,\n",
    "    'stitch': sttch_data,\n",
    "    'ctd': CTD_data,\n",
    "    'dtc': DTC_data,\n",
    "    'db': DB_data,\n",
    "    'dc': DC_data\n",
    "}"
   ]
  },
  {
   "cell_type": "markdown",
   "metadata": {},
   "source": [
    "### Search for Vitamin D Targets\n",
    "\n",
    "Using the integrated databases, we now extract the protein targets of Cholecalciferol. The targets will be mapped to HGNC symbols for compatibility with the PPI network. Then, they are saved in `output/vd_targets.json`\n",
    "\n"
   ]
  },
  {
   "cell_type": "code",
   "execution_count": 4,
   "metadata": {},
   "outputs": [
    {
     "name": "stderr",
     "output_type": "stream",
     "text": [
      "/home/a.aldana/conda_envs/barabasi/lib/python3.11/site-packages/cpiextract/pipelines/Comp2Prot.py:79: FutureWarning: The behavior of DataFrame concatenation with empty or all-NA entries is deprecated. In a future version, this will no longer exclude empty or all-NA columns when determining the result dtypes. To retain the old behavior, exclude the relevant entries before the concat operation.\n",
      "  tar_all = pd.concat([tar_all, result])\n"
     ]
    },
    {
     "name": "stdout",
     "output_type": "stream",
     "text": [
      "pc done!\n",
      "chembl done!\n",
      "bdb done!\n",
      "stitch done!\n",
      "ctd done!\n",
      "dtc done!\n",
      "otp done!\n",
      "dc done!\n",
      "db done!\n"
     ]
    },
    {
     "name": "stderr",
     "output_type": "stream",
     "text": [
      "/home/a.aldana/conda_envs/barabasi/lib/python3.11/site-packages/cpiextract/pipelines/Pipeline.py:79: FutureWarning: Setting an item of incompatible dtype is deprecated and will raise in a future error of pandas. Value 'Sources do not provide activity data' has dtype incompatible with float64, please explicitly cast to a compatible dtype first.\n",
      "  data.loc[index,'std_pchembl'] = 'Sources do not provide activity data'\n"
     ]
    }
   ],
   "source": [
    "# Cholecalciferol (PubChem CID: 5280795)\n",
    "comp_id = 5280795\n",
    "\n",
    "# Initialize Comp2Prot\n",
    "C2P = Comp2Prot('local', dbs=dbs)\n",
    "\n",
    "# Search for interactions\n",
    "comp_dat, status = C2P.comp_interactions(input_id=comp_id)\n",
    "\n",
    "# Extract HGNC symbols\n",
    "vd_targets = {\"Vitamin D\": list(comp_dat.hgnc_symbol)} \n",
    "\n",
    "# Save extracted targets\n",
    "with open('./output/vd_targets.json', 'w') as f:\n",
    "    json.dump(vd_targets, f)"
   ]
  },
  {
   "cell_type": "markdown",
   "metadata": {},
   "source": [
    "## Construct Disease Gene Sets\n",
    "\n",
    "We extract disease-gene associations for four conditions: Huntington’s disease, Inflammation, Rickets, and Vitamin D deficiency. These associations come from DisGeNet, and we filter them based on a minimum association score. The results are saved in the file `output/disease_genes.json`"
   ]
  },
  {
   "cell_type": "code",
   "execution_count": 5,
   "metadata": {},
   "outputs": [],
   "source": [
    "# Directory containing the disease genes\n",
    "dis_gene_path = \"input_data/disease_genes\"\n",
    "\n",
    "disease_file_names = {\n",
    "    \"Huntington\":\"DGN_Huntington.csv\",\n",
    "    \"Inflammation\": \"DGN_inflammation.csv\",\n",
    "    \"Rickets\": \"DGN_Rickets.csv\",\n",
    "    \"Vit. D deficiency\": \"DGN_VDdeff.csv\"\n",
    "}\n",
    "\n",
    "disease_genes = {}\n",
    "\n",
    "# Load files and filter for strong associations\n",
    "for name,file_name in disease_file_names.items():\n",
    "    path = dis_gene_path + \"/\" + file_name\n",
    "\n",
    "    df = pd.read_csv(path)\n",
    "    df = df.query(\"Score_gda > 0.1\")\n",
    "\n",
    "    disease_genes[name] =  list(df.Gene)\n",
    "\n",
    "# Save file\n",
    "with open('./output/disease_genes.json', 'w') as f:\n",
    "    json.dump(disease_genes, f)"
   ]
  },
  {
   "cell_type": "markdown",
   "metadata": {},
   "source": [
    "## Verify Network Coverage\n",
    "\n",
    "We check how many of the disease-associated genes and Vitamin D targets are present in the PPI network. This step ensures that the proximity analysis is based on genes with known interactions.\n"
   ]
  },
  {
   "cell_type": "code",
   "execution_count": 6,
   "metadata": {},
   "outputs": [
    {
     "name": "stdout",
     "output_type": "stream",
     "text": [
      "Huntington: 46 associations in PPI\n",
      "Inflammation: 164 associations in PPI\n",
      "Rickets: 11 associations in PPI\n",
      "Vit. D defficiency: 5 associations in PPI\n",
      "Vitamin D: 24 targets in PPI\n"
     ]
    }
   ],
   "source": [
    "# Load PPI network\n",
    "ppi = pd.read_csv(\"output/string_ppi_filtered.csv\")\n",
    "ppi = nx.from_pandas_edgelist(ppi, 'source', 'target', create_using=nx.Graph())\n",
    "\n",
    "# Load disease genes\n",
    "with open('./output/disease_genes.json', 'r') as f:\n",
    "    disease_genes = json.load(f)\n",
    "\n",
    "# Load Vitamin D targets\n",
    "with open('./output/vd_targets.json', 'r') as f:\n",
    "    dtargets = json.load(f)\n",
    "\n",
    "# Keep only associations existing in the PPI\n",
    "nodes = set(ppi.nodes)\n",
    "for name, genes in disease_genes.items():\n",
    "    disease_genes[name] = set(genes) & nodes\n",
    "    print(f\"{name}: {len(disease_genes[name])} associations in PPI\")\n",
    "\n",
    "for name, targets in dtargets.items():\n",
    "    dtargets[name] = set(targets) & nodes\n",
    "    print(f\"{name}: {len(dtargets[name])} targets in PPI\")\n"
   ]
  },
  {
   "cell_type": "markdown",
   "metadata": {},
   "source": [
    "## Compute Random Walk Based Distances\n",
    "\n",
    "Using `netmedpy`, we calculate the pairwise biased random walk distances between all nodes in the PPI network. These distances will later be used to compute the proximity between drug targets and disease genes. The resulting matrix is stored as a `pickle` file in `output/ppi_distances_BRW.pkl`\n"
   ]
  },
  {
   "cell_type": "code",
   "execution_count": 7,
   "metadata": {},
   "outputs": [],
   "source": [
    "# Calculate Random Walk based distance between all pair of genes\n",
    "dmat = netmedpy.all_pair_distances(\n",
    "    ppi,\n",
    "    distance='biased_random_walk',\n",
    "    reset = 0.3\n",
    ")\n",
    "\n",
    "# Save distances for further use\n",
    "netmedpy.save_distances(dmat,\"output/ppi_distances_BRW.pkl\")"
   ]
  },
  {
   "cell_type": "markdown",
   "metadata": {},
   "source": [
    "## Compute Proximity Using Log Binning Null Model\n",
    "\n",
    "We compute proximity scores between Vitamin D targets and disease gene sets using `netmedpy`’s screening function. This step uses a log-binning-based null model to estimate z-scores, which help assess the significance of the observed proximities.\n"
   ]
  },
  {
   "cell_type": "code",
   "execution_count": 8,
   "metadata": {},
   "outputs": [
    {
     "name": "stderr",
     "output_type": "stream",
     "text": [
      "2025-04-03 22:01:04,085\tINFO worker.py:1816 -- Started a local Ray instance.\n"
     ]
    },
    {
     "name": "stdout",
     "output_type": "stream",
     "text": [
      "\u001b[36m(_calculate_score pid=250541)\u001b[0m Vitamin D-Vit. D defficiency finished\n",
      "\u001b[36m(_calculate_score pid=250549)\u001b[0m Vitamin D-Rickets finished\n",
      "\u001b[36m(_calculate_score pid=250544)\u001b[0m Vitamin D-Huntington finished\n"
     ]
    },
    {
     "data": {
      "text/html": [
       "<div>\n",
       "<style scoped>\n",
       "    .dataframe tbody tr th:only-of-type {\n",
       "        vertical-align: middle;\n",
       "    }\n",
       "\n",
       "    .dataframe tbody tr th {\n",
       "        vertical-align: top;\n",
       "    }\n",
       "\n",
       "    .dataframe thead th {\n",
       "        text-align: right;\n",
       "    }\n",
       "</style>\n",
       "<table border=\"1\" class=\"dataframe\">\n",
       "  <thead>\n",
       "    <tr style=\"text-align: right;\">\n",
       "      <th></th>\n",
       "      <th>Vitamin D</th>\n",
       "    </tr>\n",
       "  </thead>\n",
       "  <tbody>\n",
       "    <tr>\n",
       "      <th>Vit. D defficiency</th>\n",
       "      <td>-3.122121</td>\n",
       "    </tr>\n",
       "    <tr>\n",
       "      <th>Inflammation</th>\n",
       "      <td>-2.134047</td>\n",
       "    </tr>\n",
       "    <tr>\n",
       "      <th>Huntington</th>\n",
       "      <td>-1.552955</td>\n",
       "    </tr>\n",
       "    <tr>\n",
       "      <th>Rickets</th>\n",
       "      <td>-1.498974</td>\n",
       "    </tr>\n",
       "  </tbody>\n",
       "</table>\n",
       "</div>"
      ],
      "text/plain": [
       "                    Vitamin D\n",
       "Vit. D defficiency  -3.122121\n",
       "Inflammation        -2.134047\n",
       "Huntington          -1.552955\n",
       "Rickets             -1.498974"
      ]
     },
     "execution_count": 8,
     "metadata": {},
     "output_type": "execute_result"
    }
   ],
   "source": [
    "# Calculate proximity between Vitamin D targets and Diseases\n",
    "proximity_lb = netmedpy.screening(\n",
    "    dtargets, \n",
    "    disease_genes, \n",
    "    ppi,\n",
    "    dmat,\n",
    "    score=\"proximity\",\n",
    "    properties=[\"z_score\"],\n",
    "    null_model=\"log_binning\",\n",
    "    n_iter=10000,n_procs=10\n",
    ")\n",
    "\n",
    "zscore_lb = proximity_lb['z_score'].T\n",
    "zscore_lb = zscore_lb.sort_values(by='Vitamin D')\n",
    "zscore_lb"
   ]
  },
  {
   "cell_type": "markdown",
   "metadata": {},
   "source": [
    "## Repeat Proximity Calculation with Degree-Matched Null Model\n",
    "\n",
    "Here, we repeat the proximity analysis using a different null model — degree matching. This approach controls for network degree when estimating null distributions, offering an alternative robustness check.\n"
   ]
  },
  {
   "cell_type": "code",
   "execution_count": 9,
   "metadata": {},
   "outputs": [
    {
     "name": "stderr",
     "output_type": "stream",
     "text": [
      "2025-04-03 22:01:50,116\tINFO worker.py:1816 -- Started a local Ray instance.\n"
     ]
    },
    {
     "name": "stdout",
     "output_type": "stream",
     "text": [
      "\u001b[36m(_calculate_score pid=251812)\u001b[0m Vitamin D-Vit. D defficiency finished\n",
      "\u001b[36m(_calculate_score pid=251806)\u001b[0m Vitamin D-Rickets finished\n",
      "\u001b[36m(_calculate_score pid=251805)\u001b[0m Vitamin D-Huntington finished\n"
     ]
    },
    {
     "data": {
      "text/html": [
       "<div>\n",
       "<style scoped>\n",
       "    .dataframe tbody tr th:only-of-type {\n",
       "        vertical-align: middle;\n",
       "    }\n",
       "\n",
       "    .dataframe tbody tr th {\n",
       "        vertical-align: top;\n",
       "    }\n",
       "\n",
       "    .dataframe thead th {\n",
       "        text-align: right;\n",
       "    }\n",
       "</style>\n",
       "<table border=\"1\" class=\"dataframe\">\n",
       "  <thead>\n",
       "    <tr style=\"text-align: right;\">\n",
       "      <th></th>\n",
       "      <th>Vitamin D</th>\n",
       "    </tr>\n",
       "  </thead>\n",
       "  <tbody>\n",
       "    <tr>\n",
       "      <th>Vit. D defficiency</th>\n",
       "      <td>-3.451563</td>\n",
       "    </tr>\n",
       "    <tr>\n",
       "      <th>Inflammation</th>\n",
       "      <td>-2.441330</td>\n",
       "    </tr>\n",
       "    <tr>\n",
       "      <th>Huntington</th>\n",
       "      <td>-1.947869</td>\n",
       "    </tr>\n",
       "    <tr>\n",
       "      <th>Rickets</th>\n",
       "      <td>-1.743998</td>\n",
       "    </tr>\n",
       "  </tbody>\n",
       "</table>\n",
       "</div>"
      ],
      "text/plain": [
       "                    Vitamin D\n",
       "Vit. D defficiency  -3.451563\n",
       "Inflammation        -2.441330\n",
       "Huntington          -1.947869\n",
       "Rickets             -1.743998"
      ]
     },
     "execution_count": 9,
     "metadata": {},
     "output_type": "execute_result"
    }
   ],
   "source": [
    "proximity_dm = netmedpy.screening(\n",
    "    dtargets, \n",
    "    disease_genes, \n",
    "    ppi,\n",
    "    dmat,\n",
    "    score=\"proximity\",\n",
    "    properties=[\"z_score\"],\n",
    "    null_model=\"degree_match\",\n",
    "    n_iter=10000,n_procs=10\n",
    ")\n",
    "\n",
    "zscore_dm = proximity_dm['z_score'].T\n",
    "zscore_dm = zscore_dm.sort_values(by='Vitamin D')\n",
    "zscore_dm"
   ]
  },
  {
   "cell_type": "markdown",
   "metadata": {},
   "source": [
    "## Compare Z-scores from Both Null Models\n",
    "\n",
    "Finally, we merge the proximity z-scores from both null models into a single table. This comparison allows us to evaluate the robustness of the Vitamin D–disease associations across different randomization strategies.\n"
   ]
  },
  {
   "cell_type": "code",
   "execution_count": 10,
   "metadata": {},
   "outputs": [
    {
     "data": {
      "text/html": [
       "<div>\n",
       "<style scoped>\n",
       "    .dataframe tbody tr th:only-of-type {\n",
       "        vertical-align: middle;\n",
       "    }\n",
       "\n",
       "    .dataframe tbody tr th {\n",
       "        vertical-align: top;\n",
       "    }\n",
       "\n",
       "    .dataframe thead th {\n",
       "        text-align: right;\n",
       "    }\n",
       "</style>\n",
       "<table border=\"1\" class=\"dataframe\">\n",
       "  <thead>\n",
       "    <tr style=\"text-align: right;\">\n",
       "      <th></th>\n",
       "      <th>Log Binning</th>\n",
       "      <th>Degree Match</th>\n",
       "    </tr>\n",
       "  </thead>\n",
       "  <tbody>\n",
       "    <tr>\n",
       "      <th>Vit. D defficiency</th>\n",
       "      <td>-3.122121</td>\n",
       "      <td>-3.451563</td>\n",
       "    </tr>\n",
       "    <tr>\n",
       "      <th>Inflammation</th>\n",
       "      <td>-2.134047</td>\n",
       "      <td>-2.441330</td>\n",
       "    </tr>\n",
       "    <tr>\n",
       "      <th>Huntington</th>\n",
       "      <td>-1.552955</td>\n",
       "      <td>-1.947869</td>\n",
       "    </tr>\n",
       "    <tr>\n",
       "      <th>Rickets</th>\n",
       "      <td>-1.498974</td>\n",
       "      <td>-1.743998</td>\n",
       "    </tr>\n",
       "  </tbody>\n",
       "</table>\n",
       "</div>"
      ],
      "text/plain": [
       "                    Log Binning  Degree Match\n",
       "Vit. D defficiency    -3.122121     -3.451563\n",
       "Inflammation          -2.134047     -2.441330\n",
       "Huntington            -1.552955     -1.947869\n",
       "Rickets               -1.498974     -1.743998"
      ]
     },
     "execution_count": 10,
     "metadata": {},
     "output_type": "execute_result"
    }
   ],
   "source": [
    "zscore_lb.columns = [\"Log Binning\"]\n",
    "zscore_dm.columns = [\"Degree Match\"]\n",
    "\n",
    "zscore = pd.merge(zscore_lb,zscore_dm, left_index=True, right_index=True)\n",
    "\n",
    "zscore"
   ]
  }
 ],
 "metadata": {
  "kernelspec": {
   "display_name": "Python 3",
   "language": "python",
   "name": "python3"
  },
  "language_info": {
   "codemirror_mode": {
    "name": "ipython",
    "version": 3
   },
   "file_extension": ".py",
   "mimetype": "text/x-python",
   "name": "python",
   "nbconvert_exporter": "python",
   "pygments_lexer": "ipython3",
   "version": "3.11.7"
  },
  "orig_nbformat": 4
 },
 "nbformat": 4,
 "nbformat_minor": 2
}
